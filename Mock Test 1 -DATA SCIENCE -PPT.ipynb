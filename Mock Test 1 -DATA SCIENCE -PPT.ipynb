{
 "cells": [
  {
   "cell_type": "markdown",
   "id": "77ad58f4",
   "metadata": {},
   "source": [
    "# Q17. Write a function that takes a list of numbers as input and returns a new list containing only the even numbers from the input list. Use list comprehension to solve this problem."
   ]
  },
  {
   "cell_type": "code",
   "execution_count": 7,
   "id": "ceaf0882",
   "metadata": {},
   "outputs": [
    {
     "name": "stdout",
     "output_type": "stream",
     "text": [
      "even numbers in the list are: [2, 4, 6, 8, 10]\n"
     ]
    }
   ],
   "source": [
    "a=[1,2,3,4,5,6,7,8,9,10]\n",
    "\n",
    "even_no=[i for i in a if i %2==0]\n",
    "\n",
    "print('even numbers in the list are:',even_no)\n",
    "\n"
   ]
  },
  {
   "cell_type": "code",
   "execution_count": null,
   "id": "24a36261",
   "metadata": {},
   "outputs": [],
   "source": []
  },
  {
   "cell_type": "markdown",
   "id": "4e22edff",
   "metadata": {},
   "source": [
    "# 19. Write a function called ‘calculate_mean’ that takes a list of numbers as input and returns the mean (average) of the numbers. The function should calculate the mean using the sum of the numbers divided by the total count.\n"
   ]
  },
  {
   "cell_type": "code",
   "execution_count": 23,
   "id": "c96b13a0",
   "metadata": {},
   "outputs": [
    {
     "name": "stdout",
     "output_type": "stream",
     "text": [
      "mean of the numbers is :  18.0\n"
     ]
    }
   ],
   "source": [
    "total=0\n",
    "for i in range(0,len(num)):\n",
    "    total=total+num[i]\n",
    "\n",
    "## define function\n",
    "count=len(num)\n",
    "\n",
    "\n",
    "def calculate_mean(num):\n",
    "    mean=total/count\n",
    "    return mean\n",
    "    \n",
    "\n",
    "## driver code\n",
    "num=[5,10,20,25,30]\n",
    "\n",
    "## function calling\n",
    "mean_value=calculate_mean(num)\n",
    "print('mean of the numbers is : ', mean_value)"
   ]
  },
  {
   "cell_type": "code",
   "execution_count": null,
   "id": "a36234f7",
   "metadata": {},
   "outputs": [],
   "source": []
  },
  {
   "cell_type": "markdown",
   "id": "02784ea9",
   "metadata": {},
   "source": [
    "# 20. Write a function called ‘perform_hypothesis_test’ that takes two lists of numbers as input, representing two samples. The function should perform a two-sample t-test and return the p-value. Use the ‘scipy.stats’ module in Python to calculate the t-test and p-value.\n"
   ]
  },
  {
   "cell_type": "code",
   "execution_count": 24,
   "id": "a1387463",
   "metadata": {},
   "outputs": [],
   "source": [
    "import scipy.stats as stat"
   ]
  },
  {
   "cell_type": "code",
   "execution_count": 25,
   "id": "f7d057e0",
   "metadata": {},
   "outputs": [],
   "source": [
    "import numpy as np"
   ]
  },
  {
   "cell_type": "code",
   "execution_count": 32,
   "id": "4ed25820",
   "metadata": {},
   "outputs": [
    {
     "name": "stdout",
     "output_type": "stream",
     "text": [
      "p-value:  0.09434977284243756\n"
     ]
    }
   ],
   "source": [
    "#define function\n",
    "def perform_hypothesis_test(ob1,ob2):\n",
    "    t_test_stats,p_value=stat.ttest_ind(ob1,ob2, equal_var=True)\n",
    "    return p_value\n",
    "#driver function\n",
    "ob1=[5,10,15,20,25]\n",
    "ob2=[10,20,30,40,50]\n",
    "\n",
    "# calling function\n",
    "result=perform_hypothesis_test(ob1,ob2)\n",
    "print('p-value: ',result )"
   ]
  },
  {
   "cell_type": "code",
   "execution_count": null,
   "id": "4fc6bb1f",
   "metadata": {},
   "outputs": [],
   "source": []
  }
 ],
 "metadata": {
  "kernelspec": {
   "display_name": "Python 3 (ipykernel)",
   "language": "python",
   "name": "python3"
  },
  "language_info": {
   "codemirror_mode": {
    "name": "ipython",
    "version": 3
   },
   "file_extension": ".py",
   "mimetype": "text/x-python",
   "name": "python",
   "nbconvert_exporter": "python",
   "pygments_lexer": "ipython3",
   "version": "3.10.9"
  }
 },
 "nbformat": 4,
 "nbformat_minor": 5
}
